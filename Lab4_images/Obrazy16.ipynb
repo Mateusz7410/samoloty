{
 "cells": [
  {
   "cell_type": "code",
   "execution_count": 3,
   "metadata": {
    "collapsed": true
   },
   "outputs": [],
   "source": [
    "%matplotlib inline \n",
    "from __future__ import division\n",
    "from pylab import *\n",
    "import skimage as ski\n",
    "from skimage import data, io, filters, exposure\n",
    "from skimage.filters import rank\n",
    "from skimage import img_as_float, img_as_ubyte\n",
    "from skimage.morphology import disk\n",
    "import skimage.morphology as mp\n",
    "from skimage import util\n",
    "from skimage.color import rgb2hsv, hsv2rgb, rgb2gray\n",
    "from skimage.filters.edges import convolve\n",
    "from matplotlib import pylab as plt\n",
    "import numpy as np\n",
    "from numpy import array\n",
    "from IPython.display import display\n",
    "from ipywidgets import interact, interactive, fixed\n",
    "from ipywidgets import *\n",
    "from ipykernel.pylab.backend_inline import flush_figures\n",
    "import cv2"
   ]
  },
  {
   "cell_type": "code",
   "execution_count": 9,
   "metadata": {},
   "outputs": [
    {
     "ename": "SyntaxError",
     "evalue": "invalid syntax (<ipython-input-9-e349f3c4ac0c>, line 5)",
     "output_type": "error",
     "traceback": [
      "\u001b[1;36m  File \u001b[1;32m\"<ipython-input-9-e349f3c4ac0c>\"\u001b[1;36m, line \u001b[1;32m5\u001b[0m\n\u001b[1;33m    if(imgkontur)\u001b[0m\n\u001b[1;37m                 ^\u001b[0m\n\u001b[1;31mSyntaxError\u001b[0m\u001b[1;31m:\u001b[0m invalid syntax\n"
     ]
    }
   ],
   "source": [
    "def on_change(img, gamma=1):\n",
    "    return img ** gamma\n",
    "\n",
    "def przejdz(imgwyn, imgkontur, imgcopy, k, j):\n",
    "    if(imgkontur)\n",
    "\n",
    "def disp (names):\n",
    "    fig = figure(figsize=(25, 80))\n",
    "    for i, name in enumerate(names):\n",
    "        subplot(9, 2, i+1)\n",
    "        samolot = cv2.imread(name) \n",
    "        samolotwyn = io.imread(name)\n",
    "        samolot = cv2.medianBlur(samolot,7)\n",
    "        samolot = on_change(samolot, 0.75)\n",
    "        samolot = samolot.astype(np.uint8)\n",
    "        \n",
    "\n",
    "        sr = np.mean(samolot)\n",
    "        odch = np.std(samolot)\n",
    "        edges = cv2.Canny(samolot,sr, sr + 3*odch)\n",
    "        edges = mp.dilation(edges)\n",
    "        edges = mp.dilation(edges)\n",
    "        copy = edges\n",
    "        for k in copy:\n",
    "            for j in k:\n",
    "                j = 0\n",
    "        kolor = ((255,0,0),(255,0,255),(0,0,255),(0,255,255),(0,255,0),(255,255,0))\n",
    "        col = -1\n",
    "        for k, x in enumerate(edges):\n",
    "            for j, y in enumerate(x):\n",
    "                \n",
    "                if(y == 255):\n",
    "                    if copy[k][j] == 0:\n",
    "                        col = col + 1\n",
    "                        if col == 6:\n",
    "                            col = 0\n",
    "                        samolotwyn, copy = przejdz(samolotwyn, edges, copy, k, j)\n",
    "                        \n",
    "                   \n",
    "                    \n",
    "        im = io.imshow(samolotwyn)\n",
    "        plt.axis('off')\n",
    "    fig.savefig('samoloty16.pdf')\n",
    "\n",
    "if __name__ == '__main__':\n",
    "    names = ['samolot00.jpg', 'samolot01.jpg', 'samolot18.jpg', 'samolot03.jpg', 'samolot04.jpg', 'samolot05.jpg', \n",
    "            'samolot20.jpg', 'samolot07.jpg', 'samolot08.jpg', 'samolot09.jpg', 'samolot10.jpg', 'samolot11.jpg', \n",
    "            'samolot19.jpg', 'samolot13.jpg', 'samolot14.jpg', 'samolot15.jpg', 'samolot16.jpg', 'samolot17.jpg']\n",
    "    disp(names)   "
   ]
  }
 ],
 "metadata": {
  "kernelspec": {
   "display_name": "Python 3",
   "language": "python",
   "name": "python3"
  },
  "language_info": {
   "codemirror_mode": {
    "name": "ipython",
    "version": 3
   },
   "file_extension": ".py",
   "mimetype": "text/x-python",
   "name": "python",
   "nbconvert_exporter": "python",
   "pygments_lexer": "ipython3",
   "version": "3.6.2"
  }
 },
 "nbformat": 4,
 "nbformat_minor": 2
}
